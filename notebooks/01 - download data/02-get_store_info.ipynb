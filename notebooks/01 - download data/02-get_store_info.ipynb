{
 "cells": [
  {
   "cell_type": "code",
   "execution_count": null,
   "metadata": {},
   "outputs": [],
   "source": [
    "from csv import reader, writer\n",
    "from json import dump\n",
    "from os import chdir, makedirs\n",
    "from os.path import exists\n",
    "from time import sleep, time\n",
    "\n",
    "from IPython.display import clear_output\n",
    "from requests import get"
   ]
  },
  {
   "cell_type": "code",
   "execution_count": null,
   "metadata": {},
   "outputs": [],
   "source": [
    "# Defines output directory\n",
    "output_dir = \"../../data/store_info/\"\n",
    "\n",
    "# Makes output directory if it doesn't exist\n",
    "if not exists(output_dir):\n",
    "    makedirs(output_dir)"
   ]
  },
  {
   "cell_type": "code",
   "execution_count": null,
   "metadata": {},
   "outputs": [],
   "source": [
    "# Reads app ids into list\n",
    "with open(\"../../data/appids/appids.csv\", \"r\", newline=\"\") as f:\n",
    "    appid_reader = reader(f)\n",
    "    appids = [appid[0] for appid in appid_reader]"
   ]
  },
  {
   "cell_type": "code",
   "execution_count": null,
   "metadata": {},
   "outputs": [],
   "source": [
    "# Loop prep\n",
    "\n",
    "# Instantiates list to hold app ids for games with broken store pages\n",
    "failed_requests = []\n",
    "\n",
    "# Keeps track of minutes elapsed\n",
    "min_elapsed = 0\n",
    "\n",
    "# Keeps track of store pages seen\n",
    "store_pages_seen = 0\n",
    "\n",
    "# Keeps track of time\n",
    "timer = time()"
   ]
  },
  {
   "cell_type": "code",
   "execution_count": null,
   "metadata": {},
   "outputs": [],
   "source": [
    "# Iterates through app ids, retrieving store info for each\n",
    "for appid in appids:\n",
    "    # Formats url template with current app id\n",
    "\n",
    "    url = f\"https://store.steampowered.com/api/appdetails?appids={appid}&json=1\"\n",
    "\n",
    "    # Requests data\n",
    "    response = get(url)\n",
    "    status = response.status_code\n",
    "    request_time = time()\n",
    "\n",
    "    # Retries request if there's a 502 error\n",
    "\n",
    "\n",
    "    while status == 502:\n",
    "        print(\"502 Error! Retrying in 5 seconds...\")\n",
    "        sleep(5)\n",
    "        response = get(url)\n",
    "        status = response.status_code\n",
    "\n",
    "    # Terminates loop if unexpected http error occurs\n",
    "    if status != 200:\n",
    "        print(f\"Error! HTTP response code {status} for appid {appid}\")\n",
    "        break\n",
    "\n",
    "    # Skips games with broken store pages, saving ids\n",
    "    try:\n",
    "        with open(output_dir + appid + \".json\", \"w\") as f:\n",
    "            dump(response.json()[appid][\"data\"], f)\n",
    "    except:\n",
    "        failed_requests.append([appid])\n",
    "\n",
    "    # Augments counter\n",
    "    store_pages_seen += 1\n",
    "\n",
    "    # Prints progress to console.\n",
    "    if (time() - timer) // 300 > min_elapsed:\n",
    "        min_elapsed = (time() - timer) // 60\n",
    "        clear_output()\n",
    "        if min_elapsed < 60:\n",
    "            print(f\"{store_pages_seen} store pages scraped in {min_elapsed} minutes\")\n",
    "        else:\n",
    "            print(\n",
    "                f\"{store_pages_seen} store pages scraped in {min_elapsed//60} hours and {min_elapsed % 60} minutes\"\n",
    "            )\n",
    "\n",
    "    # Waits 2 seconds between requests to avoid making Steam mad.\n",
    "    while time() - request_time <= 2:\n",
    "        pass\n",
    "\n",
    "clear_output()\n",
    "\n",
    "print(\n",
    "    f\"Store information successfully scraped for {store_pages_seen-len(failed_requests)} games in {min_elapsed//60} hours and {min_elapsed % 60} minutes!\"\n",
    ")"
   ]
  },
  {
   "cell_type": "code",
   "execution_count": null,
   "metadata": {},
   "outputs": [],
   "source": [
    "# Informs user of any failed requests\n",
    "if len(failed_requests) > 0:\n",
    "\n",
    "    with open(output_dir + \"failed_requests.csv\", \"w\", newline=\"\") as f:\n",
    "        appid_writer = writer(f)\n",
    "        appid_writer.writerows(failed_requests)\n",
    "\n",
    "    print(\n",
    "        f\"Retrieval failed for {len(failed_requests)} games.\\nApp ids written to '{output_dir}failed_requests.csv'.\"\n",
    "    )"
   ]
  }
 ],
 "metadata": {
  "kernelspec": {
   "display_name": "steam_recommendation_env",
   "language": "python",
   "name": "python3"
  },
  "language_info": {
   "codemirror_mode": {
    "name": "ipython",
    "version": 3
   },
   "file_extension": ".py",
   "mimetype": "text/x-python",
   "name": "python",
   "nbconvert_exporter": "python",
   "pygments_lexer": "ipython3",
   "version": "3.13.0"
  }
 },
 "nbformat": 4,
 "nbformat_minor": 2
}
