{
 "cells": [
  {
   "cell_type": "code",
   "execution_count": 1,
   "metadata": {},
   "outputs": [],
   "source": [
    "import pandas as pd\n",
    "import numpy as np\n",
    "import dask.dataframe as dd"
   ]
  },
  {
   "cell_type": "code",
   "execution_count": 2,
   "metadata": {},
   "outputs": [],
   "source": [
    "df_reviews = dd.read_parquet(\"../../data/reviews.parquet\").compute()"
   ]
  },
  {
   "cell_type": "code",
   "execution_count": 3,
   "metadata": {},
   "outputs": [],
   "source": [
    "def obfuscate_ids(df:pd.DataFrame, id_var:str=None):\n",
    "    \"\"\"_summary_\n",
    "\n",
    "    Args:\n",
    "        df (pd.DataFrame): _description_\n",
    "        id_var (str, optional): _description_. Defaults to None.\n",
    "    \"\"\"\n",
    "    \n",
    "    if id_var == None:\n",
    "        print(\"No ID variable specified. Defaulting to dataframe index.\")\n",
    "        ids = df.index\n",
    "    elif id_var in df:\n",
    "        ids = df[id_var]\n",
    "    else:\n",
    "        print('No valid id variable specified')\n",
    "        \n",
    "    ids_obfuscated = np.arange(ids.nunique())\n",
    "    np.random.default_rng().shuffle(ids_obfuscated)\n",
    "\n",
    "    dict_obfuscation = dict(\n",
    "        zip(\n",
    "            ids.unique(),\n",
    "            ids_obfuscated\n",
    "        )\n",
    "    )\n",
    "    \n",
    "\n",
    "    if id_var == None:\n",
    "        df.index = df.index.map(dict_obfuscation)\n",
    "    else:\n",
    "        df[id_var] = df[id_var].map(dict_obfuscation)\n",
    "    \n",
    "    df_reviews.reset_index()['recommendationid'].describe()\n",
    "    \n",
    "    print(f\"Pre-obfuscation sample: {ids.values.sample(5)}\")\n",
    "    print(f\"Post-obfuscation sample: {np.random.choice([1,2,3,4,5], 5, False)}\")"
   ]
  },
  {
   "cell_type": "code",
   "execution_count": 4,
   "metadata": {},
   "outputs": [
    {
     "name": "stdout",
     "output_type": "stream",
     "text": [
      "No ID variable specified. Defaulting to dataframe index.\n"
     ]
    },
    {
     "ename": "TypeError",
     "evalue": "object of type 'int' has no len()",
     "output_type": "error",
     "traceback": [
      "\u001b[0;31m---------------------------------------------------------------------------\u001b[0m",
      "\u001b[0;31mTypeError\u001b[0m                                 Traceback (most recent call last)",
      "Cell \u001b[0;32mIn[4], line 1\u001b[0m\n\u001b[0;32m----> 1\u001b[0m \u001b[43mobfuscate_ids\u001b[49m\u001b[43m(\u001b[49m\u001b[43mdf_reviews\u001b[49m\u001b[43m)\u001b[49m\n",
      "Cell \u001b[0;32mIn[3], line 35\u001b[0m, in \u001b[0;36mobfuscate_ids\u001b[0;34m(df, id_var)\u001b[0m\n\u001b[1;32m     31\u001b[0m     df[id_var] \u001b[38;5;241m=\u001b[39m df[id_var]\u001b[38;5;241m.\u001b[39mmap(dict_obfuscation)\n\u001b[1;32m     33\u001b[0m df_reviews\u001b[38;5;241m.\u001b[39mreset_index()[\u001b[38;5;124m'\u001b[39m\u001b[38;5;124mrecommendationid\u001b[39m\u001b[38;5;124m'\u001b[39m]\u001b[38;5;241m.\u001b[39mdescribe()\n\u001b[0;32m---> 35\u001b[0m \u001b[38;5;28mprint\u001b[39m(\u001b[38;5;124mf\u001b[39m\u001b[38;5;124m\"\u001b[39m\u001b[38;5;124mPre-obfuscation sample: \u001b[39m\u001b[38;5;132;01m{\u001b[39;00m\u001b[43mids\u001b[49m\u001b[38;5;241;43m.\u001b[39;49m\u001b[43mvalues\u001b[49m\u001b[38;5;241;43m.\u001b[39;49m\u001b[43mchoose\u001b[49m\u001b[43m(\u001b[49m\u001b[38;5;241;43m5\u001b[39;49m\u001b[43m)\u001b[49m\u001b[38;5;132;01m}\u001b[39;00m\u001b[38;5;124m\"\u001b[39m)\n\u001b[1;32m     36\u001b[0m \u001b[38;5;28mprint\u001b[39m(\u001b[38;5;124mf\u001b[39m\u001b[38;5;124m\"\u001b[39m\u001b[38;5;124mPost-obfuscation sample: \u001b[39m\u001b[38;5;132;01m{\u001b[39;00mids_obfuscated\u001b[38;5;241m.\u001b[39mchoose(\u001b[38;5;241m5\u001b[39m)\u001b[38;5;132;01m}\u001b[39;00m\u001b[38;5;124m\"\u001b[39m)\n",
      "\u001b[0;31mTypeError\u001b[0m: object of type 'int' has no len()"
     ]
    }
   ],
   "source": [
    "obfuscate_ids(df_reviews)"
   ]
  },
  {
   "cell_type": "code",
   "execution_count": 7,
   "metadata": {},
   "outputs": [
    {
     "data": {
      "text/plain": [
       "count    1.443183e+07\n",
       "mean     7.215912e+06\n",
       "std      4.166109e+06\n",
       "min      0.000000e+00\n",
       "25%      3.607956e+06\n",
       "50%      7.215912e+06\n",
       "75%      1.082387e+07\n",
       "max      1.443182e+07\n",
       "Name: recommendationid, dtype: float64"
      ]
     },
     "execution_count": 7,
     "metadata": {},
     "output_type": "execute_result"
    }
   ],
   "source": [
    "obfuscate_ids(df_reviews, \"author_steamid\")"
   ]
  },
  {
   "cell_type": "code",
   "execution_count": 18,
   "metadata": {},
   "outputs": [
    {
     "data": {
      "text/plain": [
       "array([5, 5, 3, 2, 3])"
      ]
     },
     "execution_count": 18,
     "metadata": {},
     "output_type": "execute_result"
    }
   ],
   "source": []
  }
 ],
 "metadata": {
  "kernelspec": {
   "display_name": "steam_rec_env_final",
   "language": "python",
   "name": "python3"
  },
  "language_info": {
   "codemirror_mode": {
    "name": "ipython",
    "version": 3
   },
   "file_extension": ".py",
   "mimetype": "text/x-python",
   "name": "python",
   "nbconvert_exporter": "python",
   "pygments_lexer": "ipython3",
   "version": "3.12.7"
  }
 },
 "nbformat": 4,
 "nbformat_minor": 2
}
